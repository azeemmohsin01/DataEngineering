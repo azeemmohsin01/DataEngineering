{
 "cells": [
  {
   "cell_type": "markdown",
   "metadata": {
    "id": "UZXjlass3ARu"
   },
   "source": [
    "\n",
    "# **1. Basic Array Manipulation:**\n"
   ]
  },
  {
   "cell_type": "markdown",
   "metadata": {
    "id": "tDWPQRm23C7o"
   },
   "source": [
    "Create a 1D array with values ranging from 0 to 9.\n"
   ]
  },
  {
   "cell_type": "code",
   "execution_count": 1,
   "metadata": {
    "id": "OvGF66_02Q8H"
   },
   "outputs": [
    {
     "data": {
      "text/plain": [
       "array([0, 1, 2, 3, 4, 5, 6, 7, 8, 9])"
      ]
     },
     "execution_count": 1,
     "metadata": {},
     "output_type": "execute_result"
    }
   ],
   "source": [
    "import numpy as np\n",
    "\n",
    "array = np.arange(10)\n",
    "array"
   ]
  },
  {
   "cell_type": "markdown",
   "metadata": {
    "id": "UYzIzPyB3Ne3"
   },
   "source": [
    "Reshape the array into a 3x3 matrix.\n",
    "\n",
    "Explore Reshape Function"
   ]
  },
  {
   "cell_type": "code",
   "execution_count": 2,
   "metadata": {
    "id": "RLlzDCBc2Q_P"
   },
   "outputs": [
    {
     "data": {
      "text/plain": [
       "array([[1, 2, 3],\n",
       "       [4, 5, 6],\n",
       "       [7, 8, 9]])"
      ]
     },
     "execution_count": 2,
     "metadata": {},
     "output_type": "execute_result"
    }
   ],
   "source": [
    "array = np.arange(1,10)\n",
    "reshaped_array = array.reshape((3,3))\n",
    "reshaped_array"
   ]
  },
  {
   "cell_type": "markdown",
   "metadata": {
    "id": "KmhRK9Ti3Phn"
   },
   "source": [
    "Access the element at the second row, second column.\n"
   ]
  },
  {
   "cell_type": "code",
   "execution_count": 3,
   "metadata": {
    "id": "Dk_a1D3A3ijN"
   },
   "outputs": [
    {
     "data": {
      "text/plain": [
       "5"
      ]
     },
     "execution_count": 3,
     "metadata": {},
     "output_type": "execute_result"
    }
   ],
   "source": [
    "reshaped_array[1][1]"
   ]
  },
  {
   "cell_type": "markdown",
   "metadata": {
    "id": "NlH7N-fZ36wc"
   },
   "source": [
    "Perform element-wise addition, subtraction, multiplication, and division on two arrays [1, 2, 3] and [4, 5, 6].\n"
   ]
  },
  {
   "cell_type": "code",
   "execution_count": 9,
   "metadata": {
    "id": "PkgNSo1a37kP"
   },
   "outputs": [
    {
     "data": {
      "text/plain": [
       "array([0.25, 0.4 , 0.5 ])"
      ]
     },
     "execution_count": 9,
     "metadata": {},
     "output_type": "execute_result"
    }
   ],
   "source": [
    "array_1 = np.array([1,2,3])\n",
    "array_2 = np.array([4,5,6])\n",
    "\n",
    "addition = array_1 + array_2\n",
    "\n",
    "subtraction = array_2 - array_1\n",
    "\n",
    "multiplication = array_1 * array_2\n",
    "\n",
    "division = array_1 / array_2\n",
    "\n",
    "\n",
    "# addition\n",
    "# subtraction\n",
    "# multiplication\n",
    "division"
   ]
  },
  {
   "cell_type": "markdown",
   "metadata": {
    "id": "JVt4zxkk8e0P"
   },
   "source": [
    "Find the sum, mean, and standard deviation of the array [1, 2, 3, 4, 5].\n"
   ]
  },
  {
   "cell_type": "code",
   "execution_count": 14,
   "metadata": {
    "id": "mQZxaZ0c8nhh"
   },
   "outputs": [
    {
     "name": "stdout",
     "output_type": "stream",
     "text": [
      "Sum: 15 Mean: 3.0 Standard Deviation: 1.4142135623730951\n"
     ]
    }
   ],
   "source": [
    "array = np.array([1,2,3,4,5])\n",
    "\n",
    "array_sum = array.sum()\n",
    "\n",
    "array_mean = array.mean()\n",
    "\n",
    "array_std = array.std()\n",
    "\n",
    "print(\"Sum:\", array_sum, \"Mean:\", array_mean, \"Standard Deviation:\", array_std)"
   ]
  },
  {
   "cell_type": "markdown",
   "metadata": {
    "id": "ji2XvW0Z8nn5"
   },
   "source": [
    "Reshape the array [1, 2, 3, 4, 5, 6] into a 2x3 array.\n",
    "\n",
    "Explore Reshape"
   ]
  },
  {
   "cell_type": "code",
   "execution_count": 17,
   "metadata": {
    "id": "FNbYlzyI8rAx"
   },
   "outputs": [
    {
     "data": {
      "text/plain": [
       "array([[1, 2, 3],\n",
       "       [4, 5, 6]])"
      ]
     },
     "execution_count": 17,
     "metadata": {},
     "output_type": "execute_result"
    }
   ],
   "source": [
    "array_3 = np.array([1,2,3,4,5,6])\n",
    "\n",
    "reshaped_array_3 = array_3.reshape((2,3))\n",
    "\n",
    "reshaped_array_3"
   ]
  },
  {
   "cell_type": "markdown",
   "metadata": {
    "id": "OE-5o0th3SU4"
   },
   "source": [
    "\n",
    "# **2. Indexing and Slicing:**\n"
   ]
  },
  {
   "cell_type": "markdown",
   "metadata": {
    "id": "yqNKWBOl3an3"
   },
   "source": [
    "Create a 5x5 array with random integers.\n"
   ]
  },
  {
   "cell_type": "code",
   "execution_count": 30,
   "metadata": {
    "id": "G-kX4nme2RBn"
   },
   "outputs": [
    {
     "data": {
      "text/plain": [
       "array([[17, 76, 17, 34,  4],\n",
       "       [61, 69, 71, 30,  2],\n",
       "       [30, 61, 58, 96, 41],\n",
       "       [34, 96, 37,  4, 66],\n",
       "       [75, 26, 69, 58, 29]])"
      ]
     },
     "execution_count": 30,
     "metadata": {},
     "output_type": "execute_result"
    }
   ],
   "source": [
    "random_array = np.random.randint(1,100,size = (5,5))\n",
    "\n",
    "random_array"
   ]
  },
  {
   "cell_type": "markdown",
   "metadata": {
    "id": "LlilKAMF3bMX"
   },
   "source": [
    "Replace all values in the sub-array with a specific value.\n"
   ]
  },
  {
   "cell_type": "code",
   "execution_count": 31,
   "metadata": {
    "id": "gShfqRGm2REI"
   },
   "outputs": [
    {
     "data": {
      "text/plain": [
       "array([[17, 76, 17, 34,  4],\n",
       "       [61, 69, 71, 30,  2],\n",
       "       [30, 61, 58, 96, 41],\n",
       "       [34, 10, 10,  4, 66],\n",
       "       [75, 10, 10, 58, 29]])"
      ]
     },
     "execution_count": 31,
     "metadata": {},
     "output_type": "execute_result"
    }
   ],
   "source": [
    "random_array[3:5,1:3] = 10\n",
    "random_array"
   ]
  },
  {
   "cell_type": "markdown",
   "metadata": {
    "id": "1kUY7u023gfF"
   },
   "source": [
    "Extract the subarray [[3, 4], [7, 8]] from the array [[1, 2], [3, 4], [5, 6], [7, 8]].\n"
   ]
  },
  {
   "cell_type": "code",
   "execution_count": 42,
   "metadata": {
    "id": "UmgqjBwC3_4V"
   },
   "outputs": [
    {
     "data": {
      "text/plain": [
       "array([[3, 4],\n",
       "       [7, 8]])"
      ]
     },
     "execution_count": 42,
     "metadata": {},
     "output_type": "execute_result"
    }
   ],
   "source": [
    "array_4 = np.array([[1, 2],\n",
    "           [3, 4],\n",
    "           [5, 6],\n",
    "           [7, 8]])\n",
    "\n",
    "array_4[[1,3]]"
   ]
  },
  {
   "cell_type": "markdown",
   "metadata": {
    "id": "vPrCHS_O3jK9"
   },
   "source": [
    "\n",
    "# **3. Broadcasting:**"
   ]
  },
  {
   "cell_type": "markdown",
   "metadata": {
    "id": "W3WUM5Cc3phc"
   },
   "source": [
    "Create a 2D array of shape (3, 3) with values from 0 to 2.\n"
   ]
  },
  {
   "cell_type": "code",
   "execution_count": 44,
   "metadata": {
    "id": "PxJrAlFW2RGw"
   },
   "outputs": [
    {
     "data": {
      "text/plain": [
       "array([[1, 1, 0],\n",
       "       [0, 1, 1],\n",
       "       [1, 0, 0]])"
      ]
     },
     "execution_count": 44,
     "metadata": {},
     "output_type": "execute_result"
    }
   ],
   "source": [
    "# Method 1\n",
    "random_float = np.random.randint(0,2, size = (3,3))\n",
    "random_float"
   ]
  },
  {
   "cell_type": "code",
   "execution_count": 49,
   "metadata": {},
   "outputs": [
    {
     "data": {
      "text/plain": [
       "array([[0, 1, 2],\n",
       "       [0, 1, 2],\n",
       "       [0, 1, 2]])"
      ]
     },
     "execution_count": 49,
     "metadata": {},
     "output_type": "execute_result"
    }
   ],
   "source": [
    "# Method 2\n",
    "array_5 = np.array([0,1,2])\n",
    "new_array = np.tile(array_5, (3,1))   # np.tile(array, (rows_repeatition of array, column_repeatition of array))\n",
    "new_array"
   ]
  },
  {
   "cell_type": "markdown",
   "metadata": {
    "id": "J5XPwN3A3rXG"
   },
   "source": [
    "Add a 1D array of shape (3,) to each row of the 2D array using broadcasting.\n"
   ]
  },
  {
   "cell_type": "code",
   "execution_count": 52,
   "metadata": {
    "id": "k4FM2g_c2RJv"
   },
   "outputs": [
    {
     "data": {
      "text/plain": [
       "array([[ 6,  8, 10],\n",
       "       [ 6,  8, 10],\n",
       "       [ 6,  8, 10]])"
      ]
     },
     "execution_count": 52,
     "metadata": {},
     "output_type": "execute_result"
    }
   ],
   "source": [
    "array_6 = np.array([6,7,8])\n",
    "\n",
    "new_array + array_6\n"
   ]
  },
  {
   "cell_type": "markdown",
   "metadata": {
    "id": "9CbtQS3w4PA3"
   },
   "source": [
    "# **4. Concatenation and Splitting**"
   ]
  },
  {
   "cell_type": "markdown",
   "metadata": {
    "id": "yMg_umVy4ILG"
   },
   "source": [
    "\n",
    "1.   Create two 2D arrays of shape (3, 3) with random integers.\n",
    "2.   Concatenate them horizontally and vertically.\n",
    "3.   Split the concatenated arrays back into the original arrays.\n"
   ]
  },
  {
   "cell_type": "code",
   "execution_count": 57,
   "metadata": {
    "id": "wXiCa2Sn8XHP"
   },
   "outputs": [
    {
     "name": "stdout",
     "output_type": "stream",
     "text": [
      "[[15  3  2]\n",
      " [ 5  4 15]\n",
      " [11  3  3]]\n",
      "[[14 11 15]\n",
      " [24  3  9]\n",
      " [10 23  9]]\n"
     ]
    }
   ],
   "source": [
    "# 1.\n",
    "random_array_2 = np.random.randint(1,19,size=(3,3))\n",
    "random_array_3 = np.random.randint(2,25,size = (3,3))\n",
    "print(random_array_2)\n",
    "print(random_array_3)"
   ]
  },
  {
   "cell_type": "code",
   "execution_count": 63,
   "metadata": {
    "id": "yAiYe6vj8XSW"
   },
   "outputs": [
    {
     "data": {
      "text/plain": [
       "array([[15,  3,  2, 14, 11, 15],\n",
       "       [ 5,  4, 15, 24,  3,  9],\n",
       "       [11,  3,  3, 10, 23,  9]])"
      ]
     },
     "execution_count": 63,
     "metadata": {},
     "output_type": "execute_result"
    }
   ],
   "source": [
    "# 2. hstack\n",
    "concatenated_horizontally = np.hstack((random_array_2,random_array_3))\n",
    "concatenated_horizontally"
   ]
  },
  {
   "cell_type": "code",
   "execution_count": 62,
   "metadata": {
    "id": "lgMsjt-J8XZK"
   },
   "outputs": [
    {
     "data": {
      "text/plain": [
       "array([[15,  3,  2],\n",
       "       [ 5,  4, 15],\n",
       "       [11,  3,  3],\n",
       "       [14, 11, 15],\n",
       "       [24,  3,  9],\n",
       "       [10, 23,  9]])"
      ]
     },
     "execution_count": 62,
     "metadata": {},
     "output_type": "execute_result"
    }
   ],
   "source": [
    "# 2. vstack\n",
    "\n",
    "concatenated_vertically = np.vstack((random_array_2, random_array_3))\n",
    "concatenated_vertically"
   ]
  },
  {
   "cell_type": "code",
   "execution_count": 74,
   "metadata": {},
   "outputs": [
    {
     "data": {
      "text/plain": [
       "[array([[15,  3,  2],\n",
       "        [ 5,  4, 15],\n",
       "        [11,  3,  3]]),\n",
       " array([[14, 11, 15],\n",
       "        [24,  3,  9],\n",
       "        [10, 23,  9]])]"
      ]
     },
     "execution_count": 74,
     "metadata": {},
     "output_type": "execute_result"
    }
   ],
   "source": [
    "# 3. Splitting concatenated arrays\n",
    "\n",
    "split_horizontally = np.hsplit(concatenated_horizontally,2)\n",
    "# split_horizontally[0][1]\n",
    "split_vertically"
   ]
  },
  {
   "cell_type": "code",
   "execution_count": 75,
   "metadata": {},
   "outputs": [
    {
     "data": {
      "text/plain": [
       "[array([[15,  3,  2],\n",
       "        [ 5,  4, 15],\n",
       "        [11,  3,  3]]),\n",
       " array([[14, 11, 15],\n",
       "        [24,  3,  9],\n",
       "        [10, 23,  9]])]"
      ]
     },
     "execution_count": 75,
     "metadata": {},
     "output_type": "execute_result"
    }
   ],
   "source": [
    "# 3. \n",
    "\n",
    "split_vertically = np.vsplit(concatenated_vertically,2)\n",
    "# split_vertically[0]\n",
    "split_vertically"
   ]
  },
  {
   "cell_type": "markdown",
   "metadata": {
    "id": "2CliNLH8YG3j"
   },
   "source": [
    "# **Bonus Question**\n",
    "\n",
    "Find mode of this array  = [1,2,1,2,3,4,5,6,8,9,1,2,2,22,21,1,1,1,1,2,5]\n",
    "\n",
    "Hint: Use count and also loop"
   ]
  },
  {
   "cell_type": "code",
   "execution_count": 82,
   "metadata": {
    "id": "JGe2Qe3SYaHq"
   },
   "outputs": [
    {
     "ename": "SyntaxError",
     "evalue": "invalid syntax. Maybe you meant '==' or ':=' instead of '='? (4285554586.py, line 10)",
     "output_type": "error",
     "traceback": [
      "\u001b[1;36m  Cell \u001b[1;32mIn[82], line 10\u001b[1;36m\u001b[0m\n\u001b[1;33m    [repeatition == nums.count(num), repeated_num = nums[num] if nums.count(num) > repeatition for num in nums ]\u001b[0m\n\u001b[1;37m                                     ^\u001b[0m\n\u001b[1;31mSyntaxError\u001b[0m\u001b[1;31m:\u001b[0m invalid syntax. Maybe you meant '==' or ':=' instead of '='?\n"
     ]
    }
   ],
   "source": [
    "nums = [1,2,1,2,3,4,5,6,8,9,1,2,2,22,21,1,1,1,1,2,5]\n",
    "repeatition = 0\n",
    "repeated_num = 0\n",
    "\n",
    "for i in range(len(nums)):\n",
    "    if nums.count(nums[i]) > repeatition:\n",
    "        repeatition = nums.count(nums[i])\n",
    "        repeated_num = nums[i]\n",
    "\n",
    "\n",
    "print(repeated_num)"
   ]
  },
  {
   "cell_type": "markdown",
   "metadata": {
    "id": "1t9n5GQdYbHN"
   },
   "source": [
    "# **Notes**\n",
    "\n",
    "\n",
    "1.   All the Questions carry Equal Points (2 points)\n",
    "\n",
    "2.   Bonus Question carry 5 points\n",
    "\n",
    "3.   Review lecture for any query\n",
    "\n",
    "Good Luck!\n",
    "\n"
   ]
  },
  {
   "cell_type": "code",
   "execution_count": null,
   "metadata": {
    "id": "yxT9-gJfYugV"
   },
   "outputs": [],
   "source": []
  }
 ],
 "metadata": {
  "colab": {
   "provenance": []
  },
  "kernelspec": {
   "display_name": "Python 3 (ipykernel)",
   "language": "python",
   "name": "python3"
  },
  "language_info": {
   "codemirror_mode": {
    "name": "ipython",
    "version": 3
   },
   "file_extension": ".py",
   "mimetype": "text/x-python",
   "name": "python",
   "nbconvert_exporter": "python",
   "pygments_lexer": "ipython3",
   "version": "3.11.5"
  }
 },
 "nbformat": 4,
 "nbformat_minor": 1
}
